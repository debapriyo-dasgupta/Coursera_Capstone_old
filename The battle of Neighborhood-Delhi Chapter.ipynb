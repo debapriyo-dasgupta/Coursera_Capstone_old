{
    "cells": [
        {
            "cell_type": "markdown",
            "metadata": {
                "collapsed": true
            },
            "source": "# <center><u>The Battle of Neighborhood - Delhi Chapter</u></center>"
        },
        {
            "cell_type": "markdown",
            "metadata": {},
            "source": "<p style='text-align: right;'> <i>- By Debapriyo Dasgupta</i></p>"
        },
        {
            "cell_type": "markdown",
            "metadata": {},
            "source": "## Introduction"
        },
        {
            "cell_type": "markdown",
            "metadata": {},
            "source": "<p style='text-align: justify;'><b>Delhi</b>, the iconic post-colonial capital of India, is one of the most visited places in the country. People from all over the world visit Delhi to experience the surging blend of crumbling history and gleaming modernity. This city offers a perfect mix of different culture, historical artifacts, glamorous night-life and last but not the least mouth-watering food.</p>\n\n<p style='text-align: justify;'>Talking about food to be specific, nowadays in Delhi, there are multiple cuisines available scattered in different areas of Delhi. Starting from famous Lucknowi biriyani and kebabs to tibetian thukpa, hot and spicy chole batore to cold and tasty kulfi faluda, theres a lot of diversity.</p>\n\n<p style='text-align: justify;'>Amidst such huge diversified availability of multiple cuisines, I feel there are still some cuisines missing in some areas of the city which is resisting Delhi to become the undisputed food capital of the country.</p>"
        },
        {
            "cell_type": "markdown",
            "metadata": {},
            "source": "## Business purpose"
        },
        {
            "cell_type": "markdown",
            "metadata": {},
            "source": "<p style='text-align: justify;'>Although different cuisines are available in different areas of Delhi, some of the cuisines are not well-distributed. For example, if Mr. Prakash who is staying in Anand Vihar (East Delhi), wants to have good bengali cuisine then he has to go to C.R. Park which is in South Delhi which is more or less 20KM.</p>\n    \n<p style='text-align: justify;'>My objective is to try to analyze each and every neighborhood of delhi, to see what are the available cuisines in each neighborhood, the list of food joints available in that area serving those cuisines, what kind of service is provided based on the user ratings . Then on the basis of this I will try to group or cluster the neighborhoods highlighting top cuisines. Also from there I might be able to identify the need of missing cuisines that can be introduced in the corresponding cluster so as to facilitate Mr. Prakash</p>\n\n\nLet me dot down the business purpose of this report explicitly:\n- Foodies can find their corresponding food heaven cluster with the result of this report\n- Since we are going to find the missing cuisines, entrepreneurs can avail their business scope in and around the area\n\nJust a note, I might be a little biased to see the scope of bengali cuisine here and there, but just to share that is only for the interest of Mr. Prakash."
        },
        {
            "cell_type": "markdown",
            "metadata": {},
            "source": "## About the data"
        },
        {
            "cell_type": "markdown",
            "metadata": {},
            "source": "For the data to perform the necessary analysis, multiple sources needs to be used. For this we need to understand the sources per stages of data collection. Below is an explanation of the different data collection method used and description of the data sources and data model."
        },
        {
            "cell_type": "markdown",
            "metadata": {},
            "source": "### 1. Locational data"
        },
        {
            "cell_type": "markdown",
            "metadata": {},
            "source": "Delhi has a total of 560 neighborhood distributed among districts. For the data collection pupose, I have downloaded data from data.gov.in, a digital India initiative. \nUrl for the datasource https://data.gov.in/catalog/all-india-pincode-directory?filters%5Bfield_catalog_reference%5D=85840&format=json&offset=0&limit=6&sort%5Bcreated%5D=desc\n\nBelow are the available data\n\n- __CircleName__ --> defines the circle name. In this case \"Delhi Circle\"\n- __RegionName__ --> defines the region name\n- __DivisionName__ --> defines the division name\n- __OfficeName__ --> defines the area name\n- __Pincode__ --> defines the postal code of the area\n- __OfficeType__ --> defines type of office\n- __Delivery__ --> defines whether postal delivery is available or not\n- __District__ --> defines the district\n- __StateName__ --> defines the state, in this case \"Delhi\"\n\nI have attached the csv data in the project folder itself for quick reference. Once the data is collected and loaded in DataFrame, we need to see the irrelevent columns and drop the columns. The required columns for our analysis is as below:\n- __Pincode__\n- __District__\n- __Neighborhood__\n"
        },
        {
            "cell_type": "markdown",
            "metadata": {},
            "source": "### 2. Collect the latitude and longitude"
        },
        {
            "cell_type": "markdown",
            "metadata": {},
            "source": "Once the data is sorted we need to fetch latitude and longitude of each area using the _geopy_ python library. Then our dataset should have the below columns:\n- __Pincode__\n- __District__\n- __Neighborhood__\n- __Latitude__\n- __Longitude__"
        },
        {
            "cell_type": "markdown",
            "metadata": {},
            "source": "### 3. Traversing neighborhood"
        },
        {
            "cell_type": "markdown",
            "metadata": {},
            "source": "We will then on the basis of each neighborhood try to navigate using the data from different _FourSquare_ API call, and find what are the good eateries around, which category of cuisine does it offer, how the users rated have rated the food joint."
        }
    ],
    "metadata": {
        "kernelspec": {
            "display_name": "Python 3.6",
            "language": "python",
            "name": "python3"
        },
        "language_info": {
            "codemirror_mode": {
                "name": "ipython",
                "version": 3
            },
            "file_extension": ".py",
            "mimetype": "text/x-python",
            "name": "python",
            "nbconvert_exporter": "python",
            "pygments_lexer": "ipython3",
            "version": "3.6.9"
        }
    },
    "nbformat": 4,
    "nbformat_minor": 1
}