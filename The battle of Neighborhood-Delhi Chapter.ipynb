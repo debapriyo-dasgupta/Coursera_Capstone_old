{
    "cells": [
        {
            "cell_type": "markdown",
            "metadata": {
                "collapsed": true
            },
            "source": "# <center><u>The Battle of Neighborhood - Delhi Chapter</u></center>"
        },
        {
            "cell_type": "markdown",
            "metadata": {},
            "source": "<p style='text-align: right;'> <i>- By Debapriyo Dasgupta</i></p>"
        },
        {
            "cell_type": "markdown",
            "metadata": {},
            "source": "## Introduction"
        },
        {
            "cell_type": "markdown",
            "metadata": {},
            "source": "<p style='text-align: justify;'><b>Delhi</b>, the iconic post-colonial capital of India, is one of the most visited places in the country. People from all over the world visit Delhi to experience the surging blend of crumbling history and gleaming modernity. This city offers a perfect mix of different culture, historical artifacts, glamorous night-life and last but not the least mouth-watering food.</p>\n\n<p style='text-align: justify;'>Talking about food to be specific, nowadays in Delhi, there are multiple cuisines available scattered in different areas of Delhi. Starting from famous Lucknowi biriyani and kebabs to tibetian thukpa, hot and spicy chole batore to cold and tasty kulfi faluda, theres a lot of diversity.</p>\n\n<p style='text-align: justify;'>Amidst such huge diversified availability of multiple cuisines, I feel there are still some cuisines missing in some areas of the city which is resisting Delhi to become the undisputed food capital of the country.</p>"
        },
        {
            "cell_type": "markdown",
            "metadata": {},
            "source": "## Business purpose"
        },
        {
            "cell_type": "markdown",
            "metadata": {},
            "source": "<p style='text-align: justify;'>Although different cuisines are available in different areas of Delhi, some of the cuisines are not well-distributed. For example, if Mr. Prakash who is staying in Anand Vihar (East Delhi), wants to have good bengali cuisine then he has to go to C.R. Park which is in South Delhi which is more or less 20KM.</p>\n    \n<p style='text-align: justify;'>My objective is to try to analyze each and every neighborhood of delhi, to see what are the available cuisines in each neighborhood, the list of food joints available in that area serving those cuisines, what kind of service is provided based on the user ratings . Then on the basis of this I will try to group or cluster the neighborhoods highlighting top cuisines. Also from there I might be able to identify the need of missing cuisines that can be introduced in the corresponding cluster so as to facilitate Mr. Prakash</p>\n\n\nLet me dot down the business purpose of this report explicitly:\n- Foodies can find their corresponding food heaven cluster with the result of this report\n- Since we are going to find the missing cuisines, entrepreneurs can avail their business scope in and around the area\n\nJust a note, myself being a bengali i might be a little biased to see the scope of bengali cuisine here and there, but just to share that is only for the interest of Mr. Prakash."
        }
    ],
    "metadata": {
        "kernelspec": {
            "display_name": "Python 3.6",
            "language": "python",
            "name": "python3"
        },
        "language_info": {
            "codemirror_mode": {
                "name": "ipython",
                "version": 3
            },
            "file_extension": ".py",
            "mimetype": "text/x-python",
            "name": "python",
            "nbconvert_exporter": "python",
            "pygments_lexer": "ipython3",
            "version": "3.6.9"
        }
    },
    "nbformat": 4,
    "nbformat_minor": 1
}