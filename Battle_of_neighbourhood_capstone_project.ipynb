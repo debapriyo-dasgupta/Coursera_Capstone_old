{
    "cells": [
        {
            "cell_type": "markdown",
            "metadata": {
                "collapsed": true
            },
            "source": "# Coursera Capstone project on Battle of neighbourhood"
        },
        {
            "cell_type": "markdown",
            "metadata": {},
            "source": "##### ~By Debapriyo Dasgupta"
        },
        {
            "cell_type": "code",
            "execution_count": 1,
            "metadata": {},
            "outputs": [],
            "source": "import numpy as np\nimport pandas as pd"
        },
        {
            "cell_type": "code",
            "execution_count": 2,
            "metadata": {},
            "outputs": [
                {
                    "name": "stdout",
                    "output_type": "stream",
                    "text": "Hello Capstone Project Course!\n"
                }
            ],
            "source": "print('Hello Capstone Project Course!')"
        },
        {
            "cell_type": "markdown",
            "metadata": {},
            "source": "# Data collection process"
        },
        {
            "cell_type": "markdown",
            "metadata": {},
            "source": "### Installing BeautifulSoup"
        },
        {
            "cell_type": "code",
            "execution_count": 3,
            "metadata": {},
            "outputs": [
                {
                    "name": "stdout",
                    "output_type": "stream",
                    "text": "Packages installed successfully!!!!\n"
                }
            ],
            "source": "!pip -q install requests\n!pip -q install html5lib\n!pip -q install bs4\nprint('Packages installed successfully!!!!')"
        },
        {
            "cell_type": "markdown",
            "metadata": {},
            "source": "### Scraping website content"
        },
        {
            "cell_type": "code",
            "execution_count": 4,
            "metadata": {},
            "outputs": [],
            "source": "import requests\nfrom bs4 import BeautifulSoup"
        },
        {
            "cell_type": "code",
            "execution_count": 5,
            "metadata": {},
            "outputs": [],
            "source": "url = \"https://en.wikipedia.org/wiki/List_of_postal_codes_of_Canada:_M\"\nreq = requests.get(url)\n\nsoup = BeautifulSoup(req.content,'lxml')\n#print(soup.prettify())"
        },
        {
            "cell_type": "markdown",
            "metadata": {},
            "source": "### Loading data in DataFrame"
        },
        {
            "cell_type": "code",
            "execution_count": 39,
            "metadata": {},
            "outputs": [
                {
                    "data": {
                        "text/plain": "Index(['PostalCode', 'Borough', 'Neighborhood'], dtype='object')"
                    },
                    "execution_count": 39,
                    "metadata": {},
                    "output_type": "execute_result"
                }
            ],
            "source": "postal_table = soup.find(\"table\", attrs={\"class\":\"wikitable\"})\npostal_table_head = postal_table.tbody.find_all(\"tr\")\npostal_table_head\n\npostal_data = []\nfor rows in postal_table_head:\n    tr_row=[]\n    for td in rows.find_all(\"td\"):\n        tr_row.append(td.text.replace('\\n',' ').strip())\n    postal_data.append(tr_row)\n        \n#Removing the first empty element\npostal_data.pop(0)\n#postal_data\n\n#Converting the list to DataFrame\ndf_postal_code = pd.DataFrame(data = postal_data, columns=['PostalCode','Borough','Neighborhood'])\ndf_postal_code.head()"
        },
        {
            "cell_type": "markdown",
            "metadata": {},
            "source": "### Cleaning the dataset\n#### 1. Deleting the rows where borough is \"Not assigned\""
        },
        {
            "cell_type": "code",
            "execution_count": 40,
            "metadata": {},
            "outputs": [
                {
                    "data": {
                        "text/html": "<div>\n<style scoped>\n    .dataframe tbody tr th:only-of-type {\n        vertical-align: middle;\n    }\n\n    .dataframe tbody tr th {\n        vertical-align: top;\n    }\n\n    .dataframe thead th {\n        text-align: right;\n    }\n</style>\n<table border=\"1\" class=\"dataframe\">\n  <thead>\n    <tr style=\"text-align: right;\">\n      <th></th>\n      <th>PostalCode</th>\n      <th>Borough</th>\n      <th>Neighborhood</th>\n    </tr>\n  </thead>\n  <tbody>\n    <tr>\n      <th>2</th>\n      <td>M3A</td>\n      <td>North York</td>\n      <td>Parkwoods</td>\n    </tr>\n    <tr>\n      <th>3</th>\n      <td>M4A</td>\n      <td>North York</td>\n      <td>Victoria Village</td>\n    </tr>\n    <tr>\n      <th>4</th>\n      <td>M5A</td>\n      <td>Downtown Toronto</td>\n      <td>Harbourfront</td>\n    </tr>\n    <tr>\n      <th>5</th>\n      <td>M6A</td>\n      <td>North York</td>\n      <td>Lawrence Heights</td>\n    </tr>\n    <tr>\n      <th>6</th>\n      <td>M6A</td>\n      <td>North York</td>\n      <td>Lawrence Manor</td>\n    </tr>\n  </tbody>\n</table>\n</div>",
                        "text/plain": "  PostalCode           Borough      Neighborhood\n2        M3A        North York         Parkwoods\n3        M4A        North York  Victoria Village\n4        M5A  Downtown Toronto      Harbourfront\n5        M6A        North York  Lawrence Heights\n6        M6A        North York    Lawrence Manor"
                    },
                    "execution_count": 40,
                    "metadata": {},
                    "output_type": "execute_result"
                }
            ],
            "source": "#Deleting the rows where borough is \"Not assigned\"\ndf_postal_code = df_postal_code[df_postal_code['Borough'] != 'Not assigned']\ndf_postal_code.head()"
        },
        {
            "cell_type": "markdown",
            "metadata": {},
            "source": "#### 2. Merging different Neighborhoods grouped by PostalCode"
        },
        {
            "cell_type": "code",
            "execution_count": 41,
            "metadata": {},
            "outputs": [
                {
                    "data": {
                        "text/html": "<div>\n<style scoped>\n    .dataframe tbody tr th:only-of-type {\n        vertical-align: middle;\n    }\n\n    .dataframe tbody tr th {\n        vertical-align: top;\n    }\n\n    .dataframe thead th {\n        text-align: right;\n    }\n</style>\n<table border=\"1\" class=\"dataframe\">\n  <thead>\n    <tr style=\"text-align: right;\">\n      <th></th>\n      <th>PostalCode</th>\n      <th>Borough</th>\n      <th>Neighborhood</th>\n    </tr>\n  </thead>\n  <tbody>\n    <tr>\n      <th>0</th>\n      <td>M1B</td>\n      <td>Scarborough</td>\n      <td>Rouge, Malvern</td>\n    </tr>\n    <tr>\n      <th>1</th>\n      <td>M1C</td>\n      <td>Scarborough</td>\n      <td>Highland Creek, Rouge Hill, Port Union</td>\n    </tr>\n    <tr>\n      <th>2</th>\n      <td>M1E</td>\n      <td>Scarborough</td>\n      <td>Guildwood, Morningside, West Hill</td>\n    </tr>\n    <tr>\n      <th>3</th>\n      <td>M1G</td>\n      <td>Scarborough</td>\n      <td>Woburn</td>\n    </tr>\n    <tr>\n      <th>4</th>\n      <td>M1H</td>\n      <td>Scarborough</td>\n      <td>Cedarbrae</td>\n    </tr>\n  </tbody>\n</table>\n</div>",
                        "text/plain": "  PostalCode      Borough                            Neighborhood\n0        M1B  Scarborough                          Rouge, Malvern\n1        M1C  Scarborough  Highland Creek, Rouge Hill, Port Union\n2        M1E  Scarborough       Guildwood, Morningside, West Hill\n3        M1G  Scarborough                                  Woburn\n4        M1H  Scarborough                               Cedarbrae"
                    },
                    "execution_count": 41,
                    "metadata": {},
                    "output_type": "execute_result"
                }
            ],
            "source": "postal_upd =df_postal_code.groupby(['PostalCode','Borough']).apply(lambda x: \"%s\" %', '.join(x.Neighborhood))\ndf_postal_upd = pd.DataFrame(postal_upd)\ndf_postal_upd.reset_index(inplace = True)\n\ndf_postal_upd.rename(columns={0:'Neighborhood'}, inplace=True)\ndf_postal_upd.head()"
        },
        {
            "cell_type": "markdown",
            "metadata": {},
            "source": "#### 3. Replacing 'Not assigned' Neighborhood to corresponding Borough values"
        },
        {
            "cell_type": "code",
            "execution_count": 49,
            "metadata": {},
            "outputs": [
                {
                    "data": {
                        "text/html": "<div>\n<style scoped>\n    .dataframe tbody tr th:only-of-type {\n        vertical-align: middle;\n    }\n\n    .dataframe tbody tr th {\n        vertical-align: top;\n    }\n\n    .dataframe thead th {\n        text-align: right;\n    }\n</style>\n<table border=\"1\" class=\"dataframe\">\n  <thead>\n    <tr style=\"text-align: right;\">\n      <th></th>\n      <th>PostalCode</th>\n      <th>Borough</th>\n      <th>Neighborhood</th>\n    </tr>\n  </thead>\n  <tbody>\n  </tbody>\n</table>\n</div>",
                        "text/plain": "Empty DataFrame\nColumns: [PostalCode, Borough, Neighborhood]\nIndex: []"
                    },
                    "execution_count": 49,
                    "metadata": {},
                    "output_type": "execute_result"
                }
            ],
            "source": "df_postal_upd.loc[df_postal_upd['Neighborhood']=='Not assigned', 'Neighborhood'] = df_postal_upd['Borough']\n\n#To check if any further Neighborhood values are 'Not assigned'\ndf_postal_upd[df_postal_upd['Neighborhood']=='Not assigned']"
        },
        {
            "cell_type": "markdown",
            "metadata": {},
            "source": "### Finalizing the data after cleaning"
        },
        {
            "cell_type": "code",
            "execution_count": 50,
            "metadata": {},
            "outputs": [
                {
                    "data": {
                        "text/plain": "(103, 3)"
                    },
                    "execution_count": 50,
                    "metadata": {},
                    "output_type": "execute_result"
                }
            ],
            "source": "#Final dataset\ndf_postal_can =df_postal_upd\n\n#Fetching shape of final dataset\ndf_postal_can.shape"
        }
    ],
    "metadata": {
        "kernelspec": {
            "display_name": "Python 3.6",
            "language": "python",
            "name": "python3"
        },
        "language_info": {
            "codemirror_mode": {
                "name": "ipython",
                "version": 3
            },
            "file_extension": ".py",
            "mimetype": "text/x-python",
            "name": "python",
            "nbconvert_exporter": "python",
            "pygments_lexer": "ipython3",
            "version": "3.6.9"
        }
    },
    "nbformat": 4,
    "nbformat_minor": 1
}